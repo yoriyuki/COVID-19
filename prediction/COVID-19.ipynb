{
 "cells": [
  {
   "cell_type": "code",
   "execution_count": 1,
   "metadata": {},
   "outputs": [],
   "source": [
    "import pystan\n",
    "import scipy\n",
    "import matplotlib.pyplot as plt\n",
    "import seaborn as sns\n",
    "import numpy as np\n",
    "import pandas as pd"
   ]
  },
  {
   "cell_type": "code",
   "execution_count": 2,
   "metadata": {},
   "outputs": [],
   "source": [
    "#### Preprocecing ###"
   ]
  },
  {
   "cell_type": "code",
   "execution_count": 3,
   "metadata": {},
   "outputs": [],
   "source": [
    "Confirmed = pd.read_csv(\"../csse_covid_19_data/csse_covid_19_time_series/time_series_19-covid-Confirmed.csv\")"
   ]
  },
  {
   "cell_type": "code",
   "execution_count": 4,
   "metadata": {},
   "outputs": [],
   "source": [
    "df = Confirmed.groupby(\"Country/Region\").sum()\n",
    "df = df.drop([\"Lat\", \"Long\"], 1)\n",
    "df = df.T\n",
    "df = df.set_index(pd.to_datetime(df.index))\n",
    "confirmed = df"
   ]
  },
  {
   "cell_type": "code",
   "execution_count": 5,
   "metadata": {},
   "outputs": [],
   "source": [
    "contries = confirmed.max() >= 1000\n",
    "confirmed = confirmed.loc[:, contries]"
   ]
  },
  {
   "cell_type": "code",
   "execution_count": 6,
   "metadata": {},
   "outputs": [],
   "source": [
    "df = pd.read_csv(\"../csse_covid_19_data/csse_covid_19_time_series/time_series_19-covid-Recovered.csv\")\n",
    "df = df.groupby(\"Country/Region\").sum()\n",
    "df = df.drop([\"Lat\", \"Long\"], 1)\n",
    "df = df.T\n",
    "df = df.set_index(pd.to_datetime(df.index))\n",
    "recovered = df.loc[:, contries]"
   ]
  },
  {
   "cell_type": "code",
   "execution_count": 7,
   "metadata": {},
   "outputs": [],
   "source": [
    "df = pd.read_csv(\"../csse_covid_19_data/csse_covid_19_time_series/time_series_19-covid-Deaths.csv\")\n",
    "df = df.groupby(\"Country/Region\").sum()\n",
    "df = df.drop([\"Lat\", \"Long\"], 1)\n",
    "df = df.T\n",
    "df = df.set_index(pd.to_datetime(df.index))\n",
    "death = df.loc[:, contries]"
   ]
  },
  {
   "cell_type": "code",
   "execution_count": 8,
   "metadata": {},
   "outputs": [],
   "source": [
    "removed = recovered + death"
   ]
  },
  {
   "cell_type": "code",
   "execution_count": 9,
   "metadata": {},
   "outputs": [],
   "source": [
    "### Data Preparation ###"
   ]
  },
  {
   "cell_type": "code",
   "execution_count": 63,
   "metadata": {},
   "outputs": [],
   "source": [
    "S = confirmed.values\n",
    "R = removed.values\n",
    "L = 7"
   ]
  },
  {
   "cell_type": "code",
   "execution_count": 64,
   "metadata": {},
   "outputs": [],
   "source": [
    "data = {'T': S.shape[0], 'N': S.shape[1], 'L':L, 'S': S, 'R': R}"
   ]
  },
  {
   "cell_type": "code",
   "execution_count": 65,
   "metadata": {},
   "outputs": [],
   "source": [
    "### Model ###"
   ]
  },
  {
   "cell_type": "code",
   "execution_count": 66,
   "metadata": {
    "scrolled": true
   },
   "outputs": [
    {
     "name": "stderr",
     "output_type": "stream",
     "text": [
      "INFO:pystan:COMPILING THE C++ CODE FOR MODEL anon_model_7b3ec379b973d1619a9dd6f3c54e9e93 NOW.\n"
     ]
    }
   ],
   "source": [
    "sm = pystan.StanModel(file=\"covid19.stan\")"
   ]
  },
  {
   "cell_type": "code",
   "execution_count": 67,
   "metadata": {},
   "outputs": [
    {
     "name": "stderr",
     "output_type": "stream",
     "text": [
      "WARNING:pystan:Maximum (flat) parameter count (1000) exceeded: skipping diagnostic tests for n_eff and Rhat.\n",
      "To run all diagnostics call pystan.check_hmc_diagnostics(fit)\n",
      "WARNING:pystan:193 of 2000 iterations ended with a divergence (9.65 %).\n",
      "WARNING:pystan:Try running with adapt_delta larger than 0.8 to remove the divergences.\n",
      "WARNING:pystan:1807 of 2000 iterations saturated the maximum tree depth of 10 (90.3 %)\n",
      "WARNING:pystan:Run again with max_treedepth larger than 10 to avoid saturation\n"
     ]
    }
   ],
   "source": [
    "# Train the model and generate samples\n",
    "fit = sm.sampling(data=data, iter=1000, chains=4)"
   ]
  },
  {
   "cell_type": "code",
   "execution_count": 68,
   "metadata": {},
   "outputs": [],
   "source": [
    "### Simulation and Visualization functions ###"
   ]
  },
  {
   "cell_type": "code",
   "execution_count": 69,
   "metadata": {},
   "outputs": [],
   "source": [
    "T = S.shape[0]\n",
    "N = S.shape[1]"
   ]
  },
  {
   "cell_type": "code",
   "execution_count": 70,
   "metadata": {},
   "outputs": [],
   "source": [
    "def simulate(a, p, c, sigma_S, sigma_R, start, horizen):\n",
    "    cumulative = confirmed.loc[start + pd.Timedelta(days=L-1)].values\n",
    "    recovered = removed.loc[start + pd.Timedelta(days=L-1)].values\n",
    "    infected_list = [confirmed.loc[d].values - removed.loc[d].values for d \n",
    "                     in pd.date_range(start, periods=L, freq='D')]\n",
    "    for d in range(L, horizen):\n",
    "        cumulative0 = cumulative\n",
    "        r = 0\n",
    "        for k in range(1,L+1):\n",
    "            r += infected_list[-k] @ c[k-1]\n",
    "        I = r * (1 - cumulative / p) + np.sqrt(sigma_S) * np.random.randn(N)\n",
    "        cumulative = cumulative + np.maximum(I, 0)\n",
    "        recovered = recovered + a * (cumulative0 - recovered) + np.sqrt(sigma_R) * np.random.randn(N)\n",
    "        recovered = np.maximum(recovered, 0)\n",
    "        infected_list.append(cumulative - recovered)\n",
    "    infected = pd.DataFrame(infected_list, \n",
    "                            columns=confirmed.columns,\n",
    "                            index=pd.date_range(start, periods=horizen, freq='D'))\n",
    "    return infected"
   ]
  },
  {
   "cell_type": "code",
   "execution_count": 71,
   "metadata": {},
   "outputs": [],
   "source": [
    "def draw_infected(fit, start, horizen, country):\n",
    "    a = fit['a']\n",
    "    p = fit['p']\n",
    "    c = fit['c']\n",
    "    sigma_S = fit['sigma_S']\n",
    "    sigma_R = fit['sigma_R']\n",
    "    np.random.shuffle(a)\n",
    "    np.random.shuffle(p)\n",
    "    np.random.shuffle(c)\n",
    "    np.random.shuffle(sigma_S)\n",
    "    np.random.shuffle(sigma_R)\n",
    "    data_list =[]\n",
    "    for i in range(a.shape[0]):\n",
    "        infected = simulate(a[i], p[i], c[i], sigma_S[i], sigma_R[i], start, horizen)\n",
    "        data = pd.DataFrame({\"infected\":infected[country]})\n",
    "        data['date'] = pd.date_range('2020-01-22', periods=horizen, freq='D')\n",
    "        data_list.append(data)\n",
    "    data = pd.concat(data_list)\n",
    "    data['simulated'] = True\n",
    "    data_real = pd.DataFrame({'infected':(confirmed - removed)[country]})\n",
    "    data_real['simulated'] = False\n",
    "    data = pd.concat([data, data_real])\n",
    "    data['date'] = data.index\n",
    "    data['days'] = (data['date'] - pd.to_datetime('2020-01-22')).apply(lambda x: x.days)\n",
    "    sns.relplot(x=\"days\", y=\"infected\", hue=\"simulated\", kind=\"line\", ci='sd', data=data);"
   ]
  },
  {
   "cell_type": "code",
   "execution_count": 72,
   "metadata": {},
   "outputs": [],
   "source": [
    "### Validation ###"
   ]
  },
  {
   "cell_type": "code",
   "execution_count": 73,
   "metadata": {},
   "outputs": [
    {
     "data": {
      "image/png": "[encoded data removed]",
      "text/plain": [
       "<Figure size 445.5x360 with 1 Axes>"
      ]
     },
     "metadata": {
      "needs_background": "light"
     },
     "output_type": "display_data"
    }
   ],
   "source": [
    "draw_infected(fit, pd.to_datetime('2020-02-01'), 60, 'China')"
   ]
  },
  {
   "cell_type": "code",
   "execution_count": 62,
   "metadata": {},
   "outputs": [
    {
     "data": {
      "image/png": "[encoded data removed]",
      "text/plain": [
       "<Figure size 445.5x360 with 1 Axes>"
      ]
     },
     "metadata": {
      "needs_background": "light"
     },
     "output_type": "display_data"
    }
   ],
   "source": [
    "draw_infected(fit, pd.to_datetime('2020-02-01'), 60, 'Italy')"
   ]
  },
  {
   "cell_type": "code",
   "execution_count": null,
   "metadata": {},
   "outputs": [],
   "source": [
    "draw_infected(fit, pd.to_datetime('2020-02-01'), 60, 'Norway')"
   ]
  },
  {
   "cell_type": "code",
   "execution_count": null,
   "metadata": {},
   "outputs": [],
   "source": [
    "draw_infected(fit, pd.to_datetime('2020-02-01'), 60, 'Korea, South')"
   ]
  },
  {
   "cell_type": "code",
   "execution_count": null,
   "metadata": {},
   "outputs": [],
   "source": [
    "### Prediction ###"
   ]
  },
  {
   "cell_type": "code",
   "execution_count": null,
   "metadata": {},
   "outputs": [],
   "source": [
    "draw_infected(fit, pd.to_datetime('2020-03-10'), 60, 'China')"
   ]
  },
  {
   "cell_type": "code",
   "execution_count": null,
   "metadata": {},
   "outputs": [],
   "source": [
    "draw_infected(fit, pd.to_datetime('2020-03-10'), 60, 'Italy')"
   ]
  },
  {
   "cell_type": "code",
   "execution_count": null,
   "metadata": {},
   "outputs": [],
   "source": [
    "draw_infected(fit, pd.to_datetime('2020-03-10'), 60, 'Norway')"
   ]
  },
  {
   "cell_type": "code",
   "execution_count": null,
   "metadata": {},
   "outputs": [],
   "source": [
    "draw_infected(fit, pd.to_datetime('2020-03-10'), 60, 'Korea, South')"
   ]
  },
  {
   "cell_type": "code",
   "execution_count": null,
   "metadata": {},
   "outputs": [],
   "source": []
  }
 ],
 "metadata": {
  "kernelspec": {
   "display_name": "COVID-19",
   "language": "python",
   "name": "covid-19"
  },
  "language_info": {
   "codemirror_mode": {
    "name": "ipython",
    "version": 3
   },
   "file_extension": ".py",
   "mimetype": "text/x-python",
   "name": "python",
   "nbconvert_exporter": "python",
   "pygments_lexer": "ipython3",
   "version": "3.7.6"
  }
 },
 "nbformat": 4,
 "nbformat_minor": 4
}
