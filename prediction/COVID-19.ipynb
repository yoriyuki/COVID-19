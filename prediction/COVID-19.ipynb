{
 "cells": [
  {
   "cell_type": "code",
   "execution_count": 88,
   "metadata": {},
   "outputs": [],
   "source": [
    "import pystan\n",
    "import scipy\n",
    "import matplotlib.pyplot as plt\n",
    "import seaborn as sns\n",
    "import numpy as np\n",
    "import pandas as pd"
   ]
  },
  {
   "cell_type": "code",
   "execution_count": 89,
   "metadata": {},
   "outputs": [],
   "source": [
    "#### Preprocecing ###"
   ]
  },
  {
   "cell_type": "code",
   "execution_count": 90,
   "metadata": {},
   "outputs": [],
   "source": [
    "Confirmed = pd.read_csv(\"../csse_covid_19_data/csse_covid_19_time_series/time_series_covid19_confirmed_global.csv\")"
   ]
  },
  {
   "cell_type": "code",
   "execution_count": 91,
   "metadata": {},
   "outputs": [],
   "source": [
    "df = Confirmed.groupby(\"Country/Region\").sum()\n",
    "df = df.drop([\"Lat\", \"Long\"], 1)\n",
    "df = df.T\n",
    "df = df.set_index(pd.to_datetime(df.index))\n",
    "confirmed = df"
   ]
  },
  {
   "cell_type": "code",
   "execution_count": 92,
   "metadata": {},
   "outputs": [],
   "source": [
    "contries = confirmed.max() >= 1000\n",
    "confirmed = confirmed.loc[:, contries]"
   ]
  },
  {
   "cell_type": "code",
   "execution_count": 93,
   "metadata": {},
   "outputs": [],
   "source": [
    "df = pd.read_csv(\"../csse_covid_19_data/csse_covid_19_time_series/time_series_covid19_recovered_global.csv\")\n",
    "df = df.groupby(\"Country/Region\").sum()\n",
    "df = df.drop([\"Lat\", \"Long\"], 1)\n",
    "df = df.T\n",
    "df = df.set_index(pd.to_datetime(df.index))\n",
    "recovered = df.loc[:, contries]\n"
   ]
  },
  {
   "cell_type": "code",
   "execution_count": 94,
   "metadata": {},
   "outputs": [],
   "source": [
    "df = pd.read_csv(\"../csse_covid_19_data/csse_covid_19_time_series/time_series_covid19_deaths_global.csv\")\n",
    "df = df.groupby(\"Country/Region\").sum()\n",
    "df = df.drop([\"Lat\", \"Long\"], 1)\n",
    "df = df.T\n",
    "df = df.set_index(pd.to_datetime(df.index))\n",
    "death = df.loc[:, contries]\n"
   ]
  },
  {
   "cell_type": "code",
   "execution_count": 95,
   "metadata": {},
   "outputs": [],
   "source": [
    "removed = recovered + death"
   ]
  },
  {
   "cell_type": "code",
   "execution_count": 96,
   "metadata": {},
   "outputs": [],
   "source": [
    "### Data Preparation ###"
   ]
  },
  {
   "cell_type": "code",
   "execution_count": 97,
   "metadata": {},
   "outputs": [],
   "source": [
    "S = confirmed.values\n",
    "R = removed.values\n",
    "L=5\n",
    "iter=2000"
   ]
  },
  {
   "cell_type": "code",
   "execution_count": 98,
   "metadata": {},
   "outputs": [],
   "source": [
    "data = {'T': S.shape[0], 'N': S.shape[1], 'L': L, 'S': S, 'R': R}"
   ]
  },
  {
   "cell_type": "code",
   "execution_count": 99,
   "metadata": {},
   "outputs": [],
   "source": [
    "### Model ###"
   ]
  },
  {
   "cell_type": "code",
   "execution_count": 132,
   "metadata": {
    "scrolled": true
   },
   "outputs": [
    {
     "name": "stderr",
     "output_type": "stream",
     "text": [
      "INFO:pystan:COMPILING THE C++ CODE FOR MODEL anon_model_6781861260873b7a864414aa2c8cf1bb NOW.\n"
     ]
    }
   ],
   "source": [
    "sm = pystan.StanModel(file=\"covid19.stan\")"
   ]
  },
  {
   "cell_type": "code",
   "execution_count": 134,
   "metadata": {},
   "outputs": [
    {
     "name": "stderr",
     "output_type": "stream",
     "text": [
      "WARNING:pystan:n_eff / iter below 0.001 indicates that the effective sample size has likely been overestimated\n",
      "WARNING:pystan:Rhat above 1.1 or below 0.9 indicates that the chains very likely have not mixed\n",
      "WARNING:pystan:404 of 4000 iterations ended with a divergence (10.1 %).\n",
      "WARNING:pystan:Try running with adapt_delta larger than 0.8 to remove the divergences.\n",
      "WARNING:pystan:3596 of 4000 iterations saturated the maximum tree depth of 10 (89.9 %)\n",
      "WARNING:pystan:Run again with max_treedepth larger than 10 to avoid saturation\n"
     ]
    }
   ],
   "source": [
    "# Train the model and generate samples\n",
    "fit = sm.sampling(data=data, iter=iter)"
   ]
  },
  {
   "cell_type": "code",
   "execution_count": 76,
   "metadata": {},
   "outputs": [],
   "source": [
    "### Simulation and Visualization functions ###"
   ]
  },
  {
   "cell_type": "code",
   "execution_count": 117,
   "metadata": {},
   "outputs": [],
   "source": [
    "T = S.shape[0]\n",
    "N = S.shape[1]\n",
    "epoch = pd.to_datetime('2020-01-22')\n",
    "repeat = 100"
   ]
  },
  {
   "cell_type": "code",
   "execution_count": 108,
   "metadata": {},
   "outputs": [],
   "source": [
    "def simulate(a, p, c, sigma_S, sigma_R, start, horizen):\n",
    "    cumulative = confirmed.loc[start].values\n",
    "    recovered = removed.loc[start].values\n",
    "    infected_list = [(confirmed - removed).loc[d].values for d in \n",
    "                        pd.date_range(start - pd.Timedelta(days=L), periods=L, freq='D')]\n",
    "    cumulative_list = [confirmed.loc[d].values for d in \n",
    "                        pd.date_range(start - pd.Timedelta(days=L), periods=L, freq='D')]\n",
    "    for d in range(horizen):\n",
    "        I = infected_list[-L] * c * (1 - cumulative_list[-L] / p) + np.sqrt(sigma_S) * np.random.randn(N)\n",
    "        cumulative = cumulative + np.maximum(I, 0)\n",
    "        recovered = recovered + a * (cumulative_list[-1] - recovered) + np.sqrt(sigma_R) * np.random.randn(N)\n",
    "        recovered = np.maximum(recovered, 0)\n",
    "        infected_list.append(cumulative - recovered)\n",
    "        cumulative_list.append(cumulative)\n",
    "        \n",
    "    infected = pd.DataFrame(infected_list[L:], \n",
    "                            columns=confirmed.columns,\n",
    "                            index=pd.date_range(start, periods=horizen, freq='D'))\n",
    "    cumulative = pd.DataFrame(cumulative_list[L:], \n",
    "                            columns=confirmed.columns,\n",
    "                            index=pd.date_range(start, periods=horizen, freq='D'))\n",
    "    return infected, cumulative"
   ]
  },
  {
   "cell_type": "code",
   "execution_count": 118,
   "metadata": {},
   "outputs": [],
   "source": [
    "def draw_infected(fit, start, horizen, country):\n",
    "    a_s = fit['a']\n",
    "    p_s = fit['p']\n",
    "    c_s = fit['c']\n",
    "    sigma_S_s = fit['sigma_S']\n",
    "    sigma_R_s = fit['sigma_R']\n",
    "    n = a_s.shape[0]\n",
    "    data = pd.DataFrame()\n",
    "    for i in range(repeat):\n",
    "        a = a_s[np.random.randint(n)]\n",
    "        p = p_s[np.random.randint(n)]\n",
    "        c = c_s[np.random.randint(n)]\n",
    "        sigma_S = sigma_S_s[np.random.randint(n)]\n",
    "        sigma_R = sigma_R_s[np.random.randint(n)]\n",
    "        infected, cumulative = simulate(a, p, c, sigma_S, sigma_R, start, horizen)\n",
    "        data = pd.concat([data, infected[country]], axis=1)\n",
    "    graph = pd.DataFrame(index=pd.date_range(epoch - pd.Timedelta(days=L), \n",
    "                                             start + pd.Timedelta(days=horizen), freq='D'))\n",
    "    real = (confirmed - removed)[country]\n",
    "    median = data.median(axis=1)\n",
    "    upper = data.quantile(q=0.75, axis=1)\n",
    "    lower = data.quantile(q=0.25, axis=1)\n",
    "    graph['Real'] = real\n",
    "    graph['Median'] = median\n",
    "    graph['Upper'] = upper\n",
    "    graph['Lower'] = lower\n",
    "    sns.relplot(kind=\"line\", ci='sd', data=graph, aspect=2)"
   ]
  },
  {
   "cell_type": "code",
   "execution_count": 119,
   "metadata": {},
   "outputs": [],
   "source": [
    "### Validation ###"
   ]
  },
  {
   "cell_type": "code",
   "execution_count": 120,
   "metadata": {},
   "outputs": [
    {
     "data": {
      "image/png": "[encoded data removed]",
      "text/plain": [
       "<Figure size 792.5x360 with 1 Axes>"
      ]
     },
     "metadata": {
      "needs_background": "light"
     },
     "output_type": "display_data"
    }
   ],
   "source": [
    "draw_infected(fit, pd.to_datetime('2020-02-01'), 60, 'China')"
   ]
  },
  {
   "cell_type": "code",
   "execution_count": 112,
   "metadata": {
    "scrolled": true
   },
   "outputs": [
    {
     "data": {
      "image/png": "[encoded data removed]",
      "text/plain": [
       "<Figure size 792.5x360 with 1 Axes>"
      ]
     },
     "metadata": {
      "needs_background": "light"
     },
     "output_type": "display_data"
    }
   ],
   "source": [
    "draw_infected(fit, pd.to_datetime('2020-03-5'), 60, 'Italy')"
   ]
  },
  {
   "cell_type": "code",
   "execution_count": 113,
   "metadata": {},
   "outputs": [
    {
     "data": {
      "image/png": "[encoded data removed]",
      "text/plain": [
       "<Figure size 792.5x360 with 1 Axes>"
      ]
     },
     "metadata": {
      "needs_background": "light"
     },
     "output_type": "display_data"
    }
   ],
   "source": [
    "draw_infected(fit, pd.to_datetime('2020-03-05'), 60, 'Iran')"
   ]
  },
  {
   "cell_type": "code",
   "execution_count": 135,
   "metadata": {},
   "outputs": [
    {
     "data": {
      "image/png": "[encoded data removed]",
      "text/plain": [
       "<Figure size 792.5x360 with 1 Axes>"
      ]
     },
     "metadata": {
      "needs_background": "light"
     },
     "output_type": "display_data"
    }
   ],
   "source": [
    "draw_infected(fit, pd.to_datetime('2020-03-05'), 60, 'Norway')"
   ]
  },
  {
   "cell_type": "code",
   "execution_count": 86,
   "metadata": {
    "scrolled": true
   },
   "outputs": [],
   "source": [
    "draw_infected(fit, pd.to_datetime('2020-03-05'), 60, 'Korea, South')"
   ]
  },
  {
   "cell_type": "code",
   "execution_count": 87,
   "metadata": {
    "scrolled": true
   },
   "outputs": [
    {
     "ename": "ValueError",
     "evalue": "matmul: Input operand 1 has a mismatch in its core dimension 0, with gufunc signature (n?,k),(k,m?)->(n?,m?) (size 1 is different from 59)",
     "output_type": "error",
     "traceback": [
      "\u001b[0;31m---------------------------------------------------------------------------\u001b[0m",
      "\u001b[0;31mValueError\u001b[0m                                Traceback (most recent call last)",
      "\u001b[0;32m<ipython-input-87-ac2ac7ddad89>\u001b[0m in \u001b[0;36m<module>\u001b[0;34m\u001b[0m\n\u001b[0;32m----> 1\u001b[0;31m \u001b[0mdraw_infected\u001b[0m\u001b[0;34m(\u001b[0m\u001b[0mfit\u001b[0m\u001b[0;34m,\u001b[0m \u001b[0mpd\u001b[0m\u001b[0;34m.\u001b[0m\u001b[0mto_datetime\u001b[0m\u001b[0;34m(\u001b[0m\u001b[0;34m'2020-03-05'\u001b[0m\u001b[0;34m)\u001b[0m\u001b[0;34m,\u001b[0m \u001b[0;36m60\u001b[0m\u001b[0;34m,\u001b[0m \u001b[0;34m'Japan'\u001b[0m\u001b[0;34m)\u001b[0m\u001b[0;34m\u001b[0m\u001b[0;34m\u001b[0m\u001b[0m\n\u001b[0m",
      "\u001b[0;32m<ipython-input-79-3d24b9fd043c>\u001b[0m in \u001b[0;36mdraw_infected\u001b[0;34m(fit, start, horizen, country)\u001b[0m\n\u001b[1;32m     13\u001b[0m         \u001b[0msigma_S\u001b[0m \u001b[0;34m=\u001b[0m \u001b[0msigma_S_s\u001b[0m\u001b[0;34m[\u001b[0m\u001b[0mnp\u001b[0m\u001b[0;34m.\u001b[0m\u001b[0mrandom\u001b[0m\u001b[0;34m.\u001b[0m\u001b[0mrandint\u001b[0m\u001b[0;34m(\u001b[0m\u001b[0mn\u001b[0m\u001b[0;34m)\u001b[0m\u001b[0;34m]\u001b[0m\u001b[0;34m\u001b[0m\u001b[0;34m\u001b[0m\u001b[0m\n\u001b[1;32m     14\u001b[0m         \u001b[0msigma_R\u001b[0m \u001b[0;34m=\u001b[0m \u001b[0msigma_R_s\u001b[0m\u001b[0;34m[\u001b[0m\u001b[0mnp\u001b[0m\u001b[0;34m.\u001b[0m\u001b[0mrandom\u001b[0m\u001b[0;34m.\u001b[0m\u001b[0mrandint\u001b[0m\u001b[0;34m(\u001b[0m\u001b[0mn\u001b[0m\u001b[0;34m)\u001b[0m\u001b[0;34m]\u001b[0m\u001b[0;34m\u001b[0m\u001b[0;34m\u001b[0m\u001b[0m\n\u001b[0;32m---> 15\u001b[0;31m         \u001b[0minfected\u001b[0m\u001b[0;34m,\u001b[0m \u001b[0mcumulative\u001b[0m \u001b[0;34m=\u001b[0m \u001b[0msimulate\u001b[0m\u001b[0;34m(\u001b[0m\u001b[0ma\u001b[0m\u001b[0;34m,\u001b[0m \u001b[0mp\u001b[0m\u001b[0;34m,\u001b[0m \u001b[0mc\u001b[0m\u001b[0;34m,\u001b[0m \u001b[0msigma_S\u001b[0m\u001b[0;34m,\u001b[0m \u001b[0msigma_R\u001b[0m\u001b[0;34m,\u001b[0m \u001b[0mstart\u001b[0m\u001b[0;34m,\u001b[0m \u001b[0mhorizen\u001b[0m\u001b[0;34m)\u001b[0m\u001b[0;34m\u001b[0m\u001b[0;34m\u001b[0m\u001b[0m\n\u001b[0m\u001b[1;32m     16\u001b[0m         \u001b[0mdata\u001b[0m \u001b[0;34m=\u001b[0m \u001b[0mpd\u001b[0m\u001b[0;34m.\u001b[0m\u001b[0mconcat\u001b[0m\u001b[0;34m(\u001b[0m\u001b[0;34m[\u001b[0m\u001b[0mdata\u001b[0m\u001b[0;34m,\u001b[0m \u001b[0minfected\u001b[0m\u001b[0;34m[\u001b[0m\u001b[0mcountry\u001b[0m\u001b[0;34m]\u001b[0m\u001b[0;34m]\u001b[0m\u001b[0;34m,\u001b[0m \u001b[0maxis\u001b[0m\u001b[0;34m=\u001b[0m\u001b[0;36m1\u001b[0m\u001b[0;34m)\u001b[0m\u001b[0;34m\u001b[0m\u001b[0;34m\u001b[0m\u001b[0m\n\u001b[1;32m     17\u001b[0m     graph = pd.DataFrame(index=pd.date_range(epoch - pd.Timedelta(days=L), \n",
      "\u001b[0;32m<ipython-input-78-7b163659746e>\u001b[0m in \u001b[0;36msimulate\u001b[0;34m(a, p, c, sigma_S, sigma_R, start, horizen)\u001b[0m\n\u001b[1;32m      7\u001b[0m                         pd.date_range(start - pd.Timedelta(days=L), periods=L, freq='D')]\n\u001b[1;32m      8\u001b[0m     \u001b[0;32mfor\u001b[0m \u001b[0md\u001b[0m \u001b[0;32min\u001b[0m \u001b[0mrange\u001b[0m\u001b[0;34m(\u001b[0m\u001b[0mhorizen\u001b[0m\u001b[0;34m)\u001b[0m\u001b[0;34m:\u001b[0m\u001b[0;34m\u001b[0m\u001b[0;34m\u001b[0m\u001b[0m\n\u001b[0;32m----> 9\u001b[0;31m         \u001b[0mI\u001b[0m \u001b[0;34m=\u001b[0m \u001b[0minfected_list\u001b[0m\u001b[0;34m[\u001b[0m\u001b[0;34m-\u001b[0m\u001b[0mL\u001b[0m\u001b[0;34m]\u001b[0m \u001b[0;34m@\u001b[0m \u001b[0mc\u001b[0m \u001b[0;34m*\u001b[0m \u001b[0;34m(\u001b[0m\u001b[0;36m1\u001b[0m \u001b[0;34m-\u001b[0m \u001b[0mcumulative_list\u001b[0m\u001b[0;34m[\u001b[0m\u001b[0;34m-\u001b[0m\u001b[0mL\u001b[0m\u001b[0;34m]\u001b[0m \u001b[0;34m/\u001b[0m \u001b[0mp\u001b[0m\u001b[0;34m)\u001b[0m \u001b[0;34m+\u001b[0m \u001b[0mnp\u001b[0m\u001b[0;34m.\u001b[0m\u001b[0msqrt\u001b[0m\u001b[0;34m(\u001b[0m\u001b[0msigma_S\u001b[0m\u001b[0;34m)\u001b[0m \u001b[0;34m*\u001b[0m \u001b[0mnp\u001b[0m\u001b[0;34m.\u001b[0m\u001b[0mrandom\u001b[0m\u001b[0;34m.\u001b[0m\u001b[0mrandn\u001b[0m\u001b[0;34m(\u001b[0m\u001b[0mN\u001b[0m\u001b[0;34m)\u001b[0m\u001b[0;34m\u001b[0m\u001b[0;34m\u001b[0m\u001b[0m\n\u001b[0m\u001b[1;32m     10\u001b[0m         \u001b[0mcumulative\u001b[0m \u001b[0;34m=\u001b[0m \u001b[0mcumulative\u001b[0m \u001b[0;34m+\u001b[0m \u001b[0mnp\u001b[0m\u001b[0;34m.\u001b[0m\u001b[0mmaximum\u001b[0m\u001b[0;34m(\u001b[0m\u001b[0mI\u001b[0m\u001b[0;34m,\u001b[0m \u001b[0;36m0\u001b[0m\u001b[0;34m)\u001b[0m\u001b[0;34m\u001b[0m\u001b[0;34m\u001b[0m\u001b[0m\n\u001b[1;32m     11\u001b[0m         \u001b[0mrecovered\u001b[0m \u001b[0;34m=\u001b[0m \u001b[0mrecovered\u001b[0m \u001b[0;34m+\u001b[0m \u001b[0ma\u001b[0m \u001b[0;34m*\u001b[0m \u001b[0;34m(\u001b[0m\u001b[0mcumulative_list\u001b[0m\u001b[0;34m[\u001b[0m\u001b[0;34m-\u001b[0m\u001b[0;36m1\u001b[0m\u001b[0;34m]\u001b[0m \u001b[0;34m-\u001b[0m \u001b[0mrecovered\u001b[0m\u001b[0;34m)\u001b[0m \u001b[0;34m+\u001b[0m \u001b[0mnp\u001b[0m\u001b[0;34m.\u001b[0m\u001b[0msqrt\u001b[0m\u001b[0;34m(\u001b[0m\u001b[0msigma_R\u001b[0m\u001b[0;34m)\u001b[0m \u001b[0;34m*\u001b[0m \u001b[0mnp\u001b[0m\u001b[0;34m.\u001b[0m\u001b[0mrandom\u001b[0m\u001b[0;34m.\u001b[0m\u001b[0mrandn\u001b[0m\u001b[0;34m(\u001b[0m\u001b[0mN\u001b[0m\u001b[0;34m)\u001b[0m\u001b[0;34m\u001b[0m\u001b[0;34m\u001b[0m\u001b[0m\n",
      "\u001b[0;31mValueError\u001b[0m: matmul: Input operand 1 has a mismatch in its core dimension 0, with gufunc signature (n?,k),(k,m?)->(n?,m?) (size 1 is different from 59)"
     ]
    }
   ],
   "source": [
    "draw_infected(fit, pd.to_datetime('2020-03-05'), 60, 'Japan')"
   ]
  },
  {
   "cell_type": "code",
   "execution_count": null,
   "metadata": {},
   "outputs": [],
   "source": []
  },
  {
   "cell_type": "code",
   "execution_count": null,
   "metadata": {},
   "outputs": [],
   "source": [
    "draw_infected(fit, pd.to_datetime('2020-03-05'), 60, 'France')"
   ]
  },
  {
   "cell_type": "code",
   "execution_count": null,
   "metadata": {},
   "outputs": [],
   "source": [
    "draw_infected(fit, pd.to_datetime('2020-03-05'), 60, 'Germany')"
   ]
  },
  {
   "cell_type": "code",
   "execution_count": null,
   "metadata": {
    "scrolled": true
   },
   "outputs": [],
   "source": [
    "draw_infected(fit, pd.to_datetime('2020-03-05'), 60, 'US')"
   ]
  },
  {
   "cell_type": "code",
   "execution_count": null,
   "metadata": {},
   "outputs": [],
   "source": [
    "### Prediction ###"
   ]
  },
  {
   "cell_type": "code",
   "execution_count": null,
   "metadata": {},
   "outputs": [],
   "source": [
    "recent = confirmed.index[-1]\n"
   ]
  },
  {
   "cell_type": "code",
   "execution_count": null,
   "metadata": {},
   "outputs": [],
   "source": [
    "draw_infected(fit, recent, 60, 'China')"
   ]
  },
  {
   "cell_type": "code",
   "execution_count": null,
   "metadata": {},
   "outputs": [],
   "source": [
    "draw_infected(fit, recent, 60, 'Italy')"
   ]
  },
  {
   "cell_type": "code",
   "execution_count": null,
   "metadata": {},
   "outputs": [],
   "source": [
    "draw_infected(fit, recent, 60, 'Norway')"
   ]
  },
  {
   "cell_type": "code",
   "execution_count": null,
   "metadata": {},
   "outputs": [],
   "source": [
    "draw_infected(fit, recent, 60, 'Korea, South')"
   ]
  },
  {
   "cell_type": "code",
   "execution_count": null,
   "metadata": {},
   "outputs": [],
   "source": [
    "draw_infected(fit, recent, 60, 'Iran')"
   ]
  },
  {
   "cell_type": "code",
   "execution_count": null,
   "metadata": {},
   "outputs": [],
   "source": [
    "draw_infected(fit, recent, 60, 'Japan')"
   ]
  },
  {
   "cell_type": "code",
   "execution_count": null,
   "metadata": {},
   "outputs": [],
   "source": [
    "draw_infected(fit, recent, 60, 'France')"
   ]
  },
  {
   "cell_type": "code",
   "execution_count": null,
   "metadata": {},
   "outputs": [],
   "source": [
    "draw_infected(fit, recent, 60, 'Germany')"
   ]
  },
  {
   "cell_type": "code",
   "execution_count": null,
   "metadata": {},
   "outputs": [],
   "source": [
    "draw_infected(fit, recent, 60, 'US')"
   ]
  },
  {
   "cell_type": "code",
   "execution_count": null,
   "metadata": {},
   "outputs": [],
   "source": [
    "def draw_infected_world(fit, start, horizen):\n",
    "    a_s = fit['a']\n",
    "    p_s = fit['p']\n",
    "    c_s = fit['c']\n",
    "    sigma_S_s = fit['sigma_S']\n",
    "    sigma_R_s = fit['sigma_R']\n",
    "    n = a_s.shape[0]\n",
    "    data = pd.DataFrame()\n",
    "    cum = []\n",
    "    for i in range(repeat):\n",
    "        a = a_s[np.random.randint(n)]\n",
    "        p = p_s[np.random.randint(n)]\n",
    "        c = c_s[np.random.randint(n)]\n",
    "        sigma_S = sigma_S_s[np.random.randint(n)]\n",
    "        sigma_R = sigma_R_s[np.random.randint(n)]\n",
    "        infected, cumulative = simulate(a, p, c, sigma_S, sigma_R, start, horizen)\n",
    "        data = pd.concat([data, infected.sum(axis=1)], axis=1)\n",
    "        cum.append(cumulative.sum(axis=1).iloc[-1])\n",
    "    cum = pd.Series(cum)\n",
    "    graph = pd.DataFrame(index=pd.date_range('2020-01-22', start + pd.Timedelta(days=horizen)))\n",
    "    real = (confirmed - removed).sum(axis=1)\n",
    "    median = data.median(axis=1)\n",
    "    upper = data.quantile(q=0.75, axis=1)\n",
    "    lower = data.quantile(q=0.25, axis=1)\n",
    "    graph['Real'] = real\n",
    "    graph['Median'] = median\n",
    "    graph['Upper'] = upper\n",
    "    graph['Lower'] = lower\n",
    "    sns.relplot(kind=\"line\", ci='sd', data=graph, aspect=2);\n",
    "    print(\"Upper:{}, Median:{}, Lower:{}\".format(cum.quantile(q=0.75), cum.median(), cum.quantile(q=0.25)))"
   ]
  },
  {
   "cell_type": "code",
   "execution_count": null,
   "metadata": {},
   "outputs": [],
   "source": [
    "draw_infected_world(fit, recent, 365)"
   ]
  },
  {
   "cell_type": "code",
   "execution_count": null,
   "metadata": {
    "scrolled": true
   },
   "outputs": [],
   "source": [
    "#draw_infected(fit, recent, 60, 'Spain')"
   ]
  },
  {
   "cell_type": "code",
   "execution_count": null,
   "metadata": {},
   "outputs": [],
   "source": [
    "confirmed.columns"
   ]
  },
  {
   "cell_type": "code",
   "execution_count": null,
   "metadata": {},
   "outputs": [],
   "source": [
    "pystan.check_hmc_diagnostics(fit)"
   ]
  },
  {
   "cell_type": "code",
   "execution_count": null,
   "metadata": {},
   "outputs": [],
   "source": [
    "#draw_infected(fit, recent, 60, 'United Kingdom')"
   ]
  },
  {
   "cell_type": "code",
   "execution_count": null,
   "metadata": {},
   "outputs": [],
   "source": [
    "#draw_infected(fit, recent, 60, 'Canada')"
   ]
  },
  {
   "cell_type": "code",
   "execution_count": null,
   "metadata": {},
   "outputs": [],
   "source": [
    "#draw_infected(fit, recent, 60, 'Malaysia')"
   ]
  },
  {
   "cell_type": "code",
   "execution_count": null,
   "metadata": {},
   "outputs": [],
   "source": [
    "sns.distplot(fit['p'][:,confirmed.columns.get_loc('Japan')])\n"
   ]
  },
  {
   "cell_type": "code",
   "execution_count": 125,
   "metadata": {},
   "outputs": [
    {
     "data": {
      "text/plain": [
       "<matplotlib.axes._subplots.AxesSubplot at 0x7fb8197bfb90>"
      ]
     },
     "execution_count": 125,
     "metadata": {},
     "output_type": "execute_result"
    },
    {
     "data": {
      "image/png": "[encoded data removed]",
      "text/plain": [
       "<Figure size 432x288 with 1 Axes>"
      ]
     },
     "metadata": {
      "needs_background": "light"
     },
     "output_type": "display_data"
    }
   ],
   "source": [
    "n = confirmed.columns.get_loc('China')\n",
    "sns.distplot(fit['p'][n])"
   ]
  },
  {
   "cell_type": "code",
   "execution_count": null,
   "metadata": {},
   "outputs": [],
   "source": [
    "def draw_infected_sums(fit, start, horizen):\n",
    "    a_s = fit['a']\n",
    "    p_s = fit['p']\n",
    "    c_s = fit['c']\n",
    "    sigma_S_s = fit['sigma_S']\n",
    "    sigma_R_s = fit['sigma_R']\n",
    "    n = a_s.shape[0]\n",
    "    data = pd.DataFrame()\n",
    "    for i in range(repeat):\n",
    "        a = a_s[np.random.randint(n)]\n",
    "        p = p_s[np.random.randint(n)]\n",
    "        c = c_s[np.random.randint(n)]\n",
    "        sigma_S = sigma_S_s[np.random.randint(n)]\n",
    "        sigma_R = sigma_R_s[np.random.randint(n)]\n",
    "        _, cumulative = simulate(a, p, c, sigma_S, sigma_R, start, horizen)\n",
    "        data = pd.concat([data, cumulative.iloc[-1]], axis=1)\n",
    "    melted = pd.melt(data.T).rename(columns={'value':'Infected'})\n",
    "    my_order = melted.groupby(by=['Country/Region'])['Infected'].median().sort_values(ascending=False).index\n",
    "    plt.figure(figsize=(10,20))\n",
    "    sns.boxplot(data=melted, y = 'Country/Region', x='Infected', showfliers=False, order=my_order)\n",
    "    table = pd.DataFrame({'Lower':data.quantile(q=0.25, axis=1), \n",
    "                           'Median':data.median(axis=1), \n",
    "                           'Upper':data.quantile(0.75, axis=1)})\n",
    "    return table"
   ]
  },
  {
   "cell_type": "code",
   "execution_count": null,
   "metadata": {},
   "outputs": [],
   "source": [
    "data = draw_infected_sums(fit, recent, 365)"
   ]
  },
  {
   "cell_type": "code",
   "execution_count": null,
   "metadata": {},
   "outputs": [],
   "source": [
    "data"
   ]
  },
  {
   "cell_type": "code",
   "execution_count": null,
   "metadata": {},
   "outputs": [],
   "source": [
    "#draw_infected(fit, pd.to_datetime('2020-02-15'), 60, 'Korea, South')"
   ]
  },
  {
   "cell_type": "code",
   "execution_count": null,
   "metadata": {},
   "outputs": [],
   "source": [
    "#draw_infected(fit, pd.to_datetime('2020-03-01'), 60, 'Korea, South')"
   ]
  },
  {
   "cell_type": "code",
   "execution_count": null,
   "metadata": {},
   "outputs": [],
   "source": [
    "df = Confirmed.groupby(\"Country/Region\").sum()\n",
    "df = df.drop([\"Lat\", \"Long\"], 1)\n",
    "df = df.T\n",
    "df = df.set_index(pd.to_datetime(df.index))"
   ]
  },
  {
   "cell_type": "code",
   "execution_count": null,
   "metadata": {},
   "outputs": [],
   "source": [
    "df['Thailand']"
   ]
  },
  {
   "cell_type": "code",
   "execution_count": null,
   "metadata": {},
   "outputs": [],
   "source": [
    "np.sqrt([1, 1, 1])"
   ]
  },
  {
   "cell_type": "code",
   "execution_count": null,
   "metadata": {},
   "outputs": [],
   "source": [
    "np.sqrt([1, 1, 1]) * np.random.randn(3)"
   ]
  },
  {
   "cell_type": "code",
   "execution_count": null,
   "metadata": {},
   "outputs": [],
   "source": [
    "draw_infected(fit, pd.to_datetime('2020-03-15'), 60, 'Turkey')"
   ]
  },
  {
   "cell_type": "code",
   "execution_count": 123,
   "metadata": {},
   "outputs": [
    {
     "data": {
      "text/plain": [
       "(4000, 59)"
      ]
     },
     "execution_count": 123,
     "metadata": {},
     "output_type": "execute_result"
    }
   ],
   "source": [
    "fit['p'].shape"
   ]
  },
  {
   "cell_type": "code",
   "execution_count": null,
   "metadata": {},
   "outputs": [],
   "source": []
  }
 ],
 "metadata": {
  "kernelspec": {
   "display_name": "COVID-19",
   "language": "python",
   "name": "covid-19"
  },
  "language_info": {
   "codemirror_mode": {
    "name": "ipython",
    "version": 3
   },
   "file_extension": ".py",
   "mimetype": "text/x-python",
   "name": "python",
   "nbconvert_exporter": "python",
   "pygments_lexer": "ipython3",
   "version": "3.7.6"
  }
 },
 "nbformat": 4,
 "nbformat_minor": 4
}
