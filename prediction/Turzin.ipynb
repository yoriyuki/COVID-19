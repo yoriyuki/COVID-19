{
 "cells": [
  {
   "cell_type": "code",
   "execution_count": 332,
   "metadata": {},
   "outputs": [],
   "source": [
    "import pystan\n",
    "import scipy\n",
    "import matplotlib.pyplot as plt\n",
    "import seaborn as sns\n",
    "import numpy as np\n",
    "import pandas as pd"
   ]
  },
  {
   "cell_type": "code",
   "execution_count": 333,
   "metadata": {},
   "outputs": [],
   "source": [
    "#### Preprocecing ###"
   ]
  },
  {
   "cell_type": "code",
   "execution_count": 334,
   "metadata": {},
   "outputs": [],
   "source": [
    "Confirmed = pd.read_csv(\"../csse_covid_19_data/csse_covid_19_time_series/time_series_covid19_confirmed_global.csv\")"
   ]
  },
  {
   "cell_type": "code",
   "execution_count": 335,
   "metadata": {},
   "outputs": [],
   "source": [
    "df = Confirmed.groupby(\"Country/Region\").sum()\n",
    "df = df.drop([\"Lat\", \"Long\"], 1)\n",
    "df = df.T\n",
    "df = df.set_index(pd.to_datetime(df.index))\n",
    "confirmed = df"
   ]
  },
  {
   "cell_type": "code",
   "execution_count": 336,
   "metadata": {},
   "outputs": [],
   "source": [
    "contries = confirmed.max() >= 1000\n",
    "confirmed = confirmed.loc[:, contries]"
   ]
  },
  {
   "cell_type": "code",
   "execution_count": 337,
   "metadata": {},
   "outputs": [],
   "source": [
    "df = pd.read_csv(\"../csse_covid_19_data/csse_covid_19_time_series/time_series_covid19_recovered_global.csv\")\n",
    "df = df.groupby(\"Country/Region\").sum()\n",
    "df = df.drop([\"Lat\", \"Long\"], 1)\n",
    "df = df.T\n",
    "df = df.set_index(pd.to_datetime(df.index))\n",
    "recovered = df.loc[:, contries]\n"
   ]
  },
  {
   "cell_type": "code",
   "execution_count": 338,
   "metadata": {},
   "outputs": [],
   "source": [
    "df = pd.read_csv(\"../csse_covid_19_data/csse_covid_19_time_series/time_series_covid19_deaths_global.csv\")\n",
    "df = df.groupby(\"Country/Region\").sum()\n",
    "df = df.drop([\"Lat\", \"Long\"], 1)\n",
    "df = df.T\n",
    "df = df.set_index(pd.to_datetime(df.index))\n",
    "death = df.loc[:, contries]\n"
   ]
  },
  {
   "cell_type": "code",
   "execution_count": 339,
   "metadata": {},
   "outputs": [],
   "source": [
    "removed = recovered + death"
   ]
  },
  {
   "cell_type": "code",
   "execution_count": 340,
   "metadata": {},
   "outputs": [],
   "source": [
    "epoch = pd.to_datetime('2020-02-15')"
   ]
  },
  {
   "cell_type": "code",
   "execution_count": 341,
   "metadata": {},
   "outputs": [],
   "source": [
    "### Data Preparation ###"
   ]
  },
  {
   "cell_type": "code",
   "execution_count": 343,
   "metadata": {},
   "outputs": [],
   "source": [
    "country = 'Korea, South'\n",
    "I0 = (confirmed - removed)[country][epoch:].values\n",
    "R0 = recovered[country][epoch:].values\n",
    "D = death[country][epoch:].values\n",
    "N = 5000_0000\n",
    "repeat=10\n",
    "iter=1000"
   ]
  },
  {
   "cell_type": "code",
   "execution_count": 344,
   "metadata": {},
   "outputs": [],
   "source": [
    "data = {'T': I0.shape[0], 'N': N, 'I0': I0, 'R0': R0, 'D': D}"
   ]
  },
  {
   "cell_type": "code",
   "execution_count": 345,
   "metadata": {},
   "outputs": [],
   "source": [
    "### Model ###"
   ]
  },
  {
   "cell_type": "code",
   "execution_count": 358,
   "metadata": {
    "scrolled": true
   },
   "outputs": [
    {
     "name": "stderr",
     "output_type": "stream",
     "text": [
      "INFO:pystan:COMPILING THE C++ CODE FOR MODEL anon_model_aaa905c7e658db993664a7d651c670ea NOW.\n"
     ]
    }
   ],
   "source": [
    "sm = pystan.StanModel(file=\"turzin.stan\")"
   ]
  },
  {
   "cell_type": "code",
   "execution_count": 359,
   "metadata": {},
   "outputs": [
    {
     "name": "stderr",
     "output_type": "stream",
     "text": [
      "WARNING:pystan:Rhat above 1.1 or below 0.9 indicates that the chains very likely have not mixed\n",
      "WARNING:pystan:2000 of 2000 iterations saturated the maximum tree depth of 10 (100 %)\n",
      "WARNING:pystan:Run again with max_treedepth larger than 10 to avoid saturation\n",
      "WARNING:pystan:Chain 1: E-BFMI = 0.000196\n",
      "WARNING:pystan:Chain 2: E-BFMI = 0.000182\n",
      "WARNING:pystan:Chain 3: E-BFMI = 0.000351\n",
      "WARNING:pystan:Chain 4: E-BFMI = 0.000432\n",
      "WARNING:pystan:E-BFMI below 0.2 indicates you may need to reparameterize your model\n"
     ]
    }
   ],
   "source": [
    "# Train the model and generate samples\n",
    "fit = sm.sampling(data=data, iter=iter)"
   ]
  },
  {
   "cell_type": "code",
   "execution_count": 360,
   "metadata": {},
   "outputs": [],
   "source": [
    "### Simulation and Visualization functions ###"
   ]
  },
  {
   "cell_type": "code",
   "execution_count": 370,
   "metadata": {},
   "outputs": [],
   "source": [
    "def sigmoid(start, theta, x):\n",
    "    return 1 / (1 + np.exp(theta * (x - start)))\n",
    "    "
   ]
  },
  {
   "cell_type": "code",
   "execution_count": 443,
   "metadata": {},
   "outputs": [],
   "source": [
    "def simulate(l0, beta0, beta1, b_date, theta, gamma, delta, q1, q2, \n",
    "             theta_q, q_date, sigma_R, sigma_I, sigma_I0, sigma_R0, sigma_D, horizon):\n",
    "    susceptible = N\n",
    "    infected = l0\n",
    "    recovered = 0\n",
    "    death = 0\n",
    "    susceptible_list = []\n",
    "    infected_list = []\n",
    "    recovered_list = []\n",
    "    death_list = []\n",
    "    infected0_list = []\n",
    "    recovered0_list = []\n",
    "    b_list = []\n",
    "    q_list = []\n",
    "    \n",
    "    for d in range(horizon):\n",
    "        b = beta0 + (beta1 - beta0) * sigmoid(b_date, theta, d) # transmission rate\n",
    "        q = q1 + (q2 - q1) * sigmoid(q_date, theta_q, d) # observation rate\n",
    "        NI = b * infected * (susceptible / N) +  np.sqrt(sigma_I) * np.random.randn()\n",
    "        R = gamma * infected + np.sqrt(sigma_R) * np.random.randn()\n",
    "        D = delta * infected + np.sqrt(sigma_D) * np.random.randn()\n",
    "        \n",
    "        susceptible = max(susceptible - recovered, 0)\n",
    "        infected = max(infected + NI - R - D, l0)\n",
    "        recovered = recovered + R\n",
    "        death = death + D\n",
    "        \n",
    "        susceptible_list.append(susceptible)\n",
    "        infected_list.append(infected)\n",
    "        recovered_list.append(recovered)\n",
    "        death_list.append(death)\n",
    "        b_list.append(b)\n",
    "        q_list.append(q)\n",
    "        \n",
    "        infected0_list.append(q * infected + np.sqrt(sigma_I0) * np.random.randn())\n",
    "        recovered0_list.append(q * recovered + np.sqrt(sigma_R0) * np.random.randn())\n",
    "        \n",
    "    result = pd.DataFrame({\n",
    "        'Susceptible':susceptible_list, \n",
    "        'Infected':infected_list,\n",
    "        'Death':death_list,\n",
    "        'Recovered':recovered_list,\n",
    "        'Observed Infection':infected0_list,\n",
    "        'Observed Recovered':recovered0_list,\n",
    "        'Growth Rate':b_list,\n",
    "        'Detection Rate':q_list},              \n",
    "        index=pd.date_range(epoch, periods=horizon, freq='D'))\n",
    "        \n",
    "    return result"
   ]
  },
  {
   "cell_type": "code",
   "execution_count": 451,
   "metadata": {},
   "outputs": [],
   "source": [
    "def monte_carlo(fit, horizon):\n",
    "    observed_infected = []\n",
    "    observed_recovered = []\n",
    "    death = []\n",
    "    b = []\n",
    "    q = []\n",
    "    n = fit['l0'].shape[0]\n",
    "    for i in range(n):\n",
    "        l0 = fit['l0'][i]\n",
    "        beta0 = fit['beta0'][i]\n",
    "        beta1 = fit['beta1'][i]\n",
    "        b_date = fit['b_date'][i]\n",
    "        theta = fit['theta'][i]\n",
    "        gamma = fit['gamma'][i]\n",
    "        delta = fit['delta'][i]\n",
    "        q1 = fit['q1'][i]\n",
    "        q2 = fit['q2'][i]\n",
    "        theta_q = fit['theta_q'][i]\n",
    "        q_date = fit['q_date'][i]\n",
    "        sigma_R = fit['sigma_R'][i]\n",
    "        sigma_I = fit['sigma_I'][i]\n",
    "        sigma_I0 = fit['sigma_I0'][i]\n",
    "        sigma_R0 = fit['sigma_R0'][i]\n",
    "        sigma_D = fit['sigma_D'][i]\n",
    "        result = simulate(l0=l0, beta0=beta0, beta1=beta1, b_date=b_date, \n",
    "                          theta=theta, gamma=gamma, delta=delta, \n",
    "                          q1=q1, q2=q2, theta_q=theta_q, q_date=q_date, \n",
    "                          sigma_R=sigma_R, sigma_I=sigma_I, sigma_I0=sigma_I0, \n",
    "                          sigma_R0=sigma_R0, sigma_D=sigma_D, horizon=horizon)\n",
    "        observed_infected.append(result['Observed Infection'])\n",
    "        observed_recovered.append(result['Observed Recovered'])\n",
    "        death.append(result['Death'])\n",
    "        b.append(result['Growth Rate'])\n",
    "        q.append(result['Detection Rate'])\n",
    "    observed_infected = pd.concat(observed_infected, axis=1)\n",
    "    observed_recovered = pd.concat(observed_recovered, axis=1)\n",
    "    death = pd.concat(death, axis=1)\n",
    "    b = pd.concat(b, axis=1)\n",
    "    q = pd.concat(q, axis=1)\n",
    "    return observed_infected, observed_recovered, death, b, q"
   ]
  },
  {
   "cell_type": "code",
   "execution_count": 457,
   "metadata": {},
   "outputs": [],
   "source": [
    "def draw(simulated, real=None):\n",
    "    graph=pd.DataFrame()\n",
    "    simulated = simulated.dropna(axis=1)\n",
    "    median = simulated.median(axis=1)\n",
    "    upper = simulated.quantile(q=0.75, axis=1)\n",
    "    lower = simulated.quantile(q=0.25, axis=1)\n",
    "    if not real is None:\n",
    "        graph['Real'] = real\n",
    "    graph['Median'] = median\n",
    "#    graph['Upper'] = upper\n",
    "#    graph['Lower'] = lower\n",
    "    sns.relplot(kind=\"line\", data=graph, aspect=2)"
   ]
  },
  {
   "cell_type": "code",
   "execution_count": 453,
   "metadata": {},
   "outputs": [],
   "source": [
    "observed_infected, observed_recovered, death, b, q = monte_carlo(fit, 120)"
   ]
  },
  {
   "cell_type": "code",
   "execution_count": 458,
   "metadata": {},
   "outputs": [
    {
     "data": {
      "image/png": "[encoded data removed]",
      "text/plain": [
       "<Figure size 792.5x360 with 1 Axes>"
      ]
     },
     "metadata": {
      "needs_background": "light"
     },
     "output_type": "display_data"
    }
   ],
   "source": [
    "draw(observed_infected, real=(confirmed - removed)[country][epoch:])"
   ]
  },
  {
   "cell_type": "code",
   "execution_count": 455,
   "metadata": {},
   "outputs": [
    {
     "data": {
      "image/png": "[encoded data removed]",
      "text/plain": [
       "<Figure size 792.5x360 with 1 Axes>"
      ]
     },
     "metadata": {
      "needs_background": "light"
     },
     "output_type": "display_data"
    }
   ],
   "source": [
    "draw(q)"
   ]
  },
  {
   "cell_type": "code",
   "execution_count": 456,
   "metadata": {},
   "outputs": [
    {
     "data": {
      "image/png": "[encoded data removed]",
      "text/plain": [
       "<Figure size 792.5x360 with 1 Axes>"
      ]
     },
     "metadata": {
      "needs_background": "light"
     },
     "output_type": "display_data"
    }
   ],
   "source": [
    "draw(b)"
   ]
  },
  {
   "cell_type": "code",
   "execution_count": 459,
   "metadata": {},
   "outputs": [
    {
     "data": {
      "text/plain": [
       "<matplotlib.axes._subplots.AxesSubplot at 0x7fcd13133ed0>"
      ]
     },
     "execution_count": 459,
     "metadata": {},
     "output_type": "execute_result"
    },
    {
     "data": {
      "image/png": "[encoded data removed]",
      "text/plain": [
       "<Figure size 432x288 with 1 Axes>"
      ]
     },
     "metadata": {
      "needs_background": "light"
     },
     "output_type": "display_data"
    }
   ],
   "source": [
    "sns.distplot(fit['q_date'])"
   ]
  },
  {
   "cell_type": "code",
   "execution_count": 460,
   "metadata": {},
   "outputs": [
    {
     "data": {
      "text/plain": [
       "<matplotlib.axes._subplots.AxesSubplot at 0x7fcd436ba290>"
      ]
     },
     "execution_count": 460,
     "metadata": {},
     "output_type": "execute_result"
    },
    {
     "data": {
      "image/png": "[encoded data removed]",
      "text/plain": [
       "<Figure size 432x288 with 1 Axes>"
      ]
     },
     "metadata": {
      "needs_background": "light"
     },
     "output_type": "display_data"
    }
   ],
   "source": [
    "sns.distplot(fit['b_date'])"
   ]
  }
 ],
 "metadata": {
  "kernelspec": {
   "display_name": "COVID-19",
   "language": "python",
   "name": "covid-19"
  },
  "language_info": {
   "codemirror_mode": {
    "name": "ipython",
    "version": 3
   },
   "file_extension": ".py",
   "mimetype": "text/x-python",
   "name": "python",
   "nbconvert_exporter": "python",
   "pygments_lexer": "ipython3",
   "version": "3.7.6"
  }
 },
 "nbformat": 4,
 "nbformat_minor": 4
}
