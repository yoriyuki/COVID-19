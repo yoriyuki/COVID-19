{
 "cells": [
  {
   "cell_type": "code",
   "execution_count": 1,
   "metadata": {},
   "outputs": [],
   "source": [
    "import pystan\n",
    "import scipy\n",
    "import matplotlib.pyplot as plt\n",
    "import seaborn as sns\n",
    "import numpy as np\n",
    "import pandas as pd"
   ]
  },
  {
   "cell_type": "code",
   "execution_count": 2,
   "metadata": {},
   "outputs": [],
   "source": [
    "#### Preprocecing ###"
   ]
  },
  {
   "cell_type": "code",
   "execution_count": 3,
   "metadata": {},
   "outputs": [],
   "source": [
    "Confirmed = pd.read_csv(\"../csse_covid_19_data/csse_covid_19_time_series/time_series_covid19_confirmed_global.csv\")"
   ]
  },
  {
   "cell_type": "code",
   "execution_count": 4,
   "metadata": {},
   "outputs": [],
   "source": [
    "df = Confirmed.groupby(\"Country/Region\").sum()\n",
    "df = df.drop([\"Lat\", \"Long\"], 1)\n",
    "df = df.T\n",
    "df = df.set_index(pd.to_datetime(df.index))\n",
    "confirmed = df"
   ]
  },
  {
   "cell_type": "code",
   "execution_count": 5,
   "metadata": {},
   "outputs": [],
   "source": [
    "contries = confirmed.max() >= 1000\n",
    "confirmed = confirmed.loc[:, contries]"
   ]
  },
  {
   "cell_type": "code",
   "execution_count": 6,
   "metadata": {},
   "outputs": [],
   "source": [
    "df = pd.read_csv(\"../csse_covid_19_data/csse_covid_19_time_series/time_series_covid19_recovered_global.csv\")\n",
    "df = df.groupby(\"Country/Region\").sum()\n",
    "df = df.drop([\"Lat\", \"Long\"], 1)\n",
    "df = df.T\n",
    "df = df.set_index(pd.to_datetime(df.index))\n",
    "recovered = df.loc[:, contries]\n"
   ]
  },
  {
   "cell_type": "code",
   "execution_count": 7,
   "metadata": {},
   "outputs": [],
   "source": [
    "df = pd.read_csv(\"../csse_covid_19_data/csse_covid_19_time_series/time_series_covid19_deaths_global.csv\")\n",
    "df = df.groupby(\"Country/Region\").sum()\n",
    "df = df.drop([\"Lat\", \"Long\"], 1)\n",
    "df = df.T\n",
    "df = df.set_index(pd.to_datetime(df.index))\n",
    "death = df.loc[:, contries]\n"
   ]
  },
  {
   "cell_type": "code",
   "execution_count": 8,
   "metadata": {},
   "outputs": [],
   "source": [
    "removed = recovered + death"
   ]
  },
  {
   "cell_type": "code",
   "execution_count": 9,
   "metadata": {},
   "outputs": [],
   "source": [
    "### Data Preparation ###"
   ]
  },
  {
   "cell_type": "code",
   "execution_count": 10,
   "metadata": {},
   "outputs": [],
   "source": [
    "country = 'Korea'\n",
    "I0 = (confirmed - removed)[country].values\n",
    "R0 = recovered[country].values\n",
    "D = death[country].values\n",
    "N = 5000_0000\n",
    "repeat=10\n",
    "iter=1000"
   ]
  },
  {
   "cell_type": "code",
   "execution_count": 11,
   "metadata": {},
   "outputs": [],
   "source": [
    "data = {'T': I0.shape[0], 'N': N, 'I0': I0, 'R0': R0, 'D': D}"
   ]
  },
  {
   "cell_type": "code",
   "execution_count": 12,
   "metadata": {},
   "outputs": [],
   "source": [
    "### Model ###"
   ]
  },
  {
   "cell_type": "code",
   "execution_count": 13,
   "metadata": {
    "scrolled": true
   },
   "outputs": [
    {
     "name": "stderr",
     "output_type": "stream",
     "text": [
      "INFO:pystan:COMPILING THE C++ CODE FOR MODEL anon_model_50906100ea65def1bb79b367af098c95 NOW.\n"
     ]
    }
   ],
   "source": [
    "sm = pystan.StanModel(file=\"turzin.stan\")"
   ]
  },
  {
   "cell_type": "code",
   "execution_count": null,
   "metadata": {},
   "outputs": [],
   "source": [
    "# Train the model and generate samples\n",
    "fit = sm.sampling(data=data, iter=iter)"
   ]
  },
  {
   "cell_type": "code",
   "execution_count": null,
   "metadata": {},
   "outputs": [],
   "source": [
    "### Simulation and Visualization functions ###"
   ]
  },
  {
   "cell_type": "code",
   "execution_count": null,
   "metadata": {},
   "outputs": [],
   "source": [
    "T = S.shape[0]\n",
    "N = S.shape[1]\n",
    "epoch = pd.to_datetime('2020-01-22')"
   ]
  },
  {
   "cell_type": "code",
   "execution_count": null,
   "metadata": {},
   "outputs": [],
   "source": [
    "def simulate(l0, beta0, beta1, theta, gamma, delta, q1, q2, \n",
    "             theta_q, q_date, sigma_S, sigma_R, sigma_I0, sigma_R0, sigma_D):\n",
    "    susceptible = N\n",
    "    infected = l0 + l0 * np.sqrt(sigma_I) * np.random.randn(1)\n",
    "    recovered0 = 0\n",
    "    recovered = 0\n",
    "    deaeth = 0\n",
    "    infected_list = []\n",
    "    recovered_list = []\n",
    "    death_list = []\n",
    "    for d in range(T):\n",
    "        infected_list.append(infected)\n",
    "        recovered_list.append(recovered0)\n",
    "        death_list.append(death)\n",
    "        b = beta1 + (beta0 - beta1) * (1 - 1 / (1 + np.exp(-theta * (t - b_date)))); #transmission rate\n",
    "        q = q1 + (q2 - q1) * (1 - 1 / (1 + np.exp(-theta_q * (t - q_date)))) # observation rate\n",
    "        susceptible = susceptible - b * susceptible * infected / N \n",
    "                + susceptible * np.sqrt(sigma_S) * np.random.randn(1)\n",
    "        infected = infected + b * susceptible * infected / N -\n",
    "            (gamma + delta) * infected +\n",
    "            infected * np.sqrt(sigma_I) * np.random.randn(1)\n",
    "        recovered = recovered + gamma * infected \n",
    "        \n",
    "        \n",
    "        infected_list.append(cumulative - recovered)\n",
    "        cumulative_list.append(cumulative)\n",
    "        \n",
    "    infected = pd.DataFrame(infected_list[L:], \n",
    "                            columns=confirmed.columns,\n",
    "                            index=pd.date_range(start, periods=horizen, freq='D'))\n",
    "    cumulative = pd.DataFrame(cumulative_list[L:], \n",
    "                            columns=confirmed.columns,\n",
    "                            index=pd.date_range(start, periods=horizen, freq='D'))\n",
    "    return infected, cumulative"
   ]
  },
  {
   "cell_type": "code",
   "execution_count": null,
   "metadata": {},
   "outputs": [],
   "source": [
    "def draw_infected(fit, start, horizen, country):\n",
    "    a_s = fit['a']\n",
    "    p_s = fit['p']\n",
    "    c_s = fit['c']\n",
    "    sigma_S_s = fit['sigma_S']\n",
    "    sigma_R_s = fit['sigma_R']\n",
    "    n = a_s.shape[0]\n",
    "    data = pd.DataFrame()\n",
    "    for i in range(repeat):\n",
    "        a = a_s[np.random.randint(n)]\n",
    "        p = p_s[np.random.randint(n)]\n",
    "        c = c_s[np.random.randint(n)]\n",
    "        sigma_S = sigma_S_s[np.random.randint(n)]\n",
    "        sigma_R = sigma_R_s[np.random.randint(n)]\n",
    "        infected, cumulative = simulate(a, p, c, sigma_S, sigma_R, start, horizen)\n",
    "        data = pd.concat([data, infected[country]], axis=1)\n",
    "    graph = pd.DataFrame(index=pd.date_range(epoch - pd.Timedelta(days=L), \n",
    "                                             start + pd.Timedelta(days=horizen), freq='D'))\n",
    "    real = (confirmed - removed)[country]\n",
    "    median = data.median(axis=1)\n",
    "    upper = data.quantile(q=0.75, axis=1)\n",
    "    lower = data.quantile(q=0.25, axis=1)\n",
    "    graph['Real'] = real\n",
    "    graph['Median'] = median\n",
    "    graph['Upper'] = upper\n",
    "    graph['Lower'] = lower\n",
    "    sns.relplot(kind=\"line\", ci='sd', data=graph, aspect=2)"
   ]
  },
  {
   "cell_type": "code",
   "execution_count": null,
   "metadata": {},
   "outputs": [],
   "source": [
    "### Validation ###"
   ]
  },
  {
   "cell_type": "code",
   "execution_count": null,
   "metadata": {},
   "outputs": [],
   "source": [
    "draw_infected(fit, pd.to_datetime('2020-02-01'), 60, 'China')"
   ]
  },
  {
   "cell_type": "code",
   "execution_count": null,
   "metadata": {
    "scrolled": true
   },
   "outputs": [],
   "source": [
    "draw_infected(fit, pd.to_datetime('2020-03-5'), 60, 'Italy')"
   ]
  },
  {
   "cell_type": "code",
   "execution_count": null,
   "metadata": {},
   "outputs": [],
   "source": [
    "draw_infected(fit, pd.to_datetime('2020-03-05'), 60, 'Iran')"
   ]
  },
  {
   "cell_type": "code",
   "execution_count": null,
   "metadata": {},
   "outputs": [],
   "source": [
    "draw_infected(fit, pd.to_datetime('2020-03-05'), 60, 'Norway')"
   ]
  },
  {
   "cell_type": "code",
   "execution_count": null,
   "metadata": {
    "scrolled": true
   },
   "outputs": [],
   "source": [
    "draw_infected(fit, pd.to_datetime('2020-03-05'), 60, 'Korea, South')"
   ]
  },
  {
   "cell_type": "code",
   "execution_count": null,
   "metadata": {},
   "outputs": [],
   "source": [
    "draw_infected(fit, pd.to_datetime('2020-03-05'), 60, 'Japan')"
   ]
  },
  {
   "cell_type": "code",
   "execution_count": null,
   "metadata": {},
   "outputs": [],
   "source": [
    "draw_infected(fit, pd.to_datetime('2020-03-05'), 60, 'France')"
   ]
  },
  {
   "cell_type": "code",
   "execution_count": null,
   "metadata": {},
   "outputs": [],
   "source": [
    "draw_infected(fit, pd.to_datetime('2020-03-05'), 60, 'Germany')"
   ]
  },
  {
   "cell_type": "code",
   "execution_count": null,
   "metadata": {
    "scrolled": true
   },
   "outputs": [],
   "source": [
    "draw_infected(fit, pd.to_datetime('2020-03-05'), 60, 'US')"
   ]
  },
  {
   "cell_type": "code",
   "execution_count": null,
   "metadata": {},
   "outputs": [],
   "source": [
    "### Prediction ###"
   ]
  },
  {
   "cell_type": "code",
   "execution_count": null,
   "metadata": {},
   "outputs": [],
   "source": [
    "recent = confirmed.index[-1]\n"
   ]
  },
  {
   "cell_type": "code",
   "execution_count": null,
   "metadata": {},
   "outputs": [],
   "source": [
    "draw_infected(fit, recent, 60, 'China')"
   ]
  },
  {
   "cell_type": "code",
   "execution_count": null,
   "metadata": {},
   "outputs": [],
   "source": [
    "draw_infected(fit, recent, 60, 'Italy')"
   ]
  },
  {
   "cell_type": "code",
   "execution_count": null,
   "metadata": {},
   "outputs": [],
   "source": [
    "draw_infected(fit, recent, 60, 'Norway')"
   ]
  },
  {
   "cell_type": "code",
   "execution_count": null,
   "metadata": {},
   "outputs": [],
   "source": [
    "draw_infected(fit, recent, 60, 'Korea, South')"
   ]
  },
  {
   "cell_type": "code",
   "execution_count": null,
   "metadata": {},
   "outputs": [],
   "source": [
    "draw_infected(fit, recent, 60, 'Iran')"
   ]
  },
  {
   "cell_type": "code",
   "execution_count": null,
   "metadata": {},
   "outputs": [],
   "source": [
    "draw_infected(fit, recent, 60, 'Japan')"
   ]
  },
  {
   "cell_type": "code",
   "execution_count": null,
   "metadata": {},
   "outputs": [],
   "source": [
    "draw_infected(fit, recent, 60, 'France')"
   ]
  },
  {
   "cell_type": "code",
   "execution_count": null,
   "metadata": {},
   "outputs": [],
   "source": [
    "draw_infected(fit, recent, 60, 'Germany')"
   ]
  },
  {
   "cell_type": "code",
   "execution_count": null,
   "metadata": {},
   "outputs": [],
   "source": [
    "draw_infected(fit, recent, 60, 'US')"
   ]
  },
  {
   "cell_type": "code",
   "execution_count": null,
   "metadata": {},
   "outputs": [],
   "source": [
    "def draw_infected_world(fit, start, horizen):\n",
    "    a_s = fit['a']\n",
    "    p_s = fit['p']\n",
    "    c_s = fit['c']\n",
    "    sigma_S_s = fit['sigma_S']\n",
    "    sigma_R_s = fit['sigma_R']\n",
    "    n = a_s.shape[0]\n",
    "    data = pd.DataFrame()\n",
    "    cum = []\n",
    "    for i in range(repeat):\n",
    "        a = a_s[np.random.randint(n)]\n",
    "        p = p_s[np.random.randint(n)]\n",
    "        c = c_s[np.random.randint(n)]\n",
    "        sigma_S = sigma_S_s[np.random.randint(n)]\n",
    "        sigma_R = sigma_R_s[np.random.randint(n)]\n",
    "        infected, cumulative = simulate(a, p, c, sigma_S, sigma_R, start, horizen)\n",
    "        data = pd.concat([data, infected.sum(axis=1)], axis=1)\n",
    "        cum.append(cumulative.sum(axis=1).iloc[-1])\n",
    "    cum = pd.Series(cum)\n",
    "    graph = pd.DataFrame(index=pd.date_range('2020-01-22', start + pd.Timedelta(days=horizen)))\n",
    "    real = (confirmed - removed).sum(axis=1)\n",
    "    median = data.median(axis=1)\n",
    "    upper = data.quantile(q=0.75, axis=1)\n",
    "    lower = data.quantile(q=0.25, axis=1)\n",
    "    graph['Real'] = real\n",
    "    graph['Median'] = median\n",
    "    graph['Upper'] = upper\n",
    "    graph['Lower'] = lower\n",
    "    sns.relplot(kind=\"line\", ci='sd', data=graph, aspect=2);\n",
    "    print(\"Upper:{}, Median:{}, Lower:{}\".format(cum.quantile(q=0.75), cum.median(), cum.quantile(q=0.25)))"
   ]
  },
  {
   "cell_type": "code",
   "execution_count": null,
   "metadata": {},
   "outputs": [],
   "source": [
    "draw_infected_world(fit, recent, 365)"
   ]
  },
  {
   "cell_type": "code",
   "execution_count": null,
   "metadata": {
    "scrolled": true
   },
   "outputs": [],
   "source": [
    "draw_infected(fit, recent, 60, 'Spain')"
   ]
  },
  {
   "cell_type": "code",
   "execution_count": null,
   "metadata": {},
   "outputs": [],
   "source": [
    "confirmed.columns"
   ]
  },
  {
   "cell_type": "code",
   "execution_count": null,
   "metadata": {},
   "outputs": [],
   "source": [
    "pystan.check_hmc_diagnostics(fit)"
   ]
  },
  {
   "cell_type": "code",
   "execution_count": null,
   "metadata": {},
   "outputs": [],
   "source": [
    "draw_infected(fit, recent, 60, 'United Kingdom')"
   ]
  },
  {
   "cell_type": "code",
   "execution_count": null,
   "metadata": {},
   "outputs": [],
   "source": [
    "draw_infected(fit, recent, 60, 'Canada')"
   ]
  },
  {
   "cell_type": "code",
   "execution_count": null,
   "metadata": {},
   "outputs": [],
   "source": [
    "draw_infected(fit, recent, 60, 'Malaysia')"
   ]
  },
  {
   "cell_type": "code",
   "execution_count": null,
   "metadata": {},
   "outputs": [],
   "source": [
    "sns.distplot(fit['p'][:,confirmed.columns.get_loc('Japan')])\n"
   ]
  },
  {
   "cell_type": "code",
   "execution_count": null,
   "metadata": {},
   "outputs": [],
   "source": [
    "n = confirmed.columns.get_loc('China')\n",
    "sns.distplot(fit['c'][n,n])"
   ]
  },
  {
   "cell_type": "code",
   "execution_count": null,
   "metadata": {},
   "outputs": [],
   "source": [
    "def draw_infected_sums(fit, start, horizen):\n",
    "    a_s = fit['a']\n",
    "    p_s = fit['p']\n",
    "    c_s = fit['c']\n",
    "    sigma_S_s = fit['sigma_S']\n",
    "    sigma_R_s = fit['sigma_R']\n",
    "    n = a_s.shape[0]\n",
    "    data = pd.DataFrame()\n",
    "    for i in range(repeat):\n",
    "        a = a_s[np.random.randint(n)]\n",
    "        p = p_s[np.random.randint(n)]\n",
    "        c = c_s[np.random.randint(n)]\n",
    "        sigma_S = sigma_S_s[np.random.randint(n)]\n",
    "        sigma_R = sigma_R_s[np.random.randint(n)]\n",
    "        _, cumulative = simulate(a, p, c, sigma_S, sigma_R, start, horizen)\n",
    "        data = pd.concat([data, cumulative.iloc[-1]], axis=1)\n",
    "    melted = pd.melt(data.T).rename(columns={'value':'Infected'})\n",
    "    my_order = melted.groupby(by=['Country/Region'])['Infected'].median().sort_values(ascending=False).index\n",
    "    plt.figure(figsize=(10,20))\n",
    "    sns.boxplot(data=melted, y = 'Country/Region', x='Infected', showfliers=False, order=my_order)\n",
    "    table = pd.DataFrame({'Lower':data.quantile(q=0.25, axis=1), \n",
    "                           'Median':data.median(axis=1), \n",
    "                           'Upper':data.quantile(0.75, axis=1)})\n",
    "    return table"
   ]
  },
  {
   "cell_type": "code",
   "execution_count": null,
   "metadata": {},
   "outputs": [],
   "source": [
    "data = draw_infected_sums(fit, recent, 365)"
   ]
  },
  {
   "cell_type": "code",
   "execution_count": null,
   "metadata": {},
   "outputs": [],
   "source": [
    "data"
   ]
  },
  {
   "cell_type": "code",
   "execution_count": null,
   "metadata": {},
   "outputs": [],
   "source": [
    "draw_infected(fit, pd.to_datetime('2020-02-15'), 60, 'Korea, South')"
   ]
  },
  {
   "cell_type": "code",
   "execution_count": null,
   "metadata": {},
   "outputs": [],
   "source": [
    "draw_infected(fit, pd.to_datetime('2020-03-01'), 60, 'Korea, South')"
   ]
  },
  {
   "cell_type": "code",
   "execution_count": null,
   "metadata": {},
   "outputs": [],
   "source": [
    "df = Confirmed.groupby(\"Country/Region\").sum()\n",
    "df = df.drop([\"Lat\", \"Long\"], 1)\n",
    "df = df.T\n",
    "df = df.set_index(pd.to_datetime(df.index))"
   ]
  },
  {
   "cell_type": "code",
   "execution_count": null,
   "metadata": {},
   "outputs": [],
   "source": [
    "df['Thailand']"
   ]
  },
  {
   "cell_type": "code",
   "execution_count": null,
   "metadata": {},
   "outputs": [],
   "source": [
    "np.sqrt([1, 1, 1])"
   ]
  },
  {
   "cell_type": "code",
   "execution_count": null,
   "metadata": {},
   "outputs": [],
   "source": [
    "np.sqrt([1, 1, 1]) * np.random.randn(3)"
   ]
  },
  {
   "cell_type": "code",
   "execution_count": null,
   "metadata": {},
   "outputs": [],
   "source": [
    "draw_infected(fit, pd.to_datetime('2020-03-15'), 60, 'Turkey')"
   ]
  },
  {
   "cell_type": "code",
   "execution_count": null,
   "metadata": {},
   "outputs": [],
   "source": []
  }
 ],
 "metadata": {
  "kernelspec": {
   "display_name": "COVID-19",
   "language": "python",
   "name": "covid-19"
  },
  "language_info": {
   "codemirror_mode": {
    "name": "ipython",
    "version": 3
   },
   "file_extension": ".py",
   "mimetype": "text/x-python",
   "name": "python",
   "nbconvert_exporter": "python",
   "pygments_lexer": "ipython3",
   "version": "3.7.6"
  }
 },
 "nbformat": 4,
 "nbformat_minor": 4
}
